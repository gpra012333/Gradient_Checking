{
 "cells": [
  {
   "cell_type": "code",
   "execution_count": 1,
   "id": "636da934-4d2b-419d-a34b-3ef34e072b8c",
   "metadata": {},
   "outputs": [],
   "source": [
    "import numpy as np\n",
    "import matplotlib.pyplot as plt"
   ]
  },
  {
   "cell_type": "code",
   "execution_count": 2,
   "id": "302608d0-4e1f-403e-b75b-e834577272ff",
   "metadata": {},
   "outputs": [],
   "source": [
    "def forward_propagation(theta,x):\n",
    "    J = np.dot(theta,x)\n",
    "    return J"
   ]
  },
  {
   "cell_type": "code",
   "execution_count": 3,
   "id": "67050641-345a-48af-ad18-efe14a956557",
   "metadata": {},
   "outputs": [],
   "source": [
    "def backward_propagation(theta,x):\n",
    "    dtheta = x\n",
    "    return dtheta"
   ]
  },
  {
   "cell_type": "code",
   "execution_count": 4,
   "id": "37de49e7-e5fd-4a81-9079-402b94518948",
   "metadata": {},
   "outputs": [],
   "source": [
    "def gradient_checking(theta,x,epsilon=1e-7):\n",
    "    theta_plus = theta+epsilon\n",
    "    theta_minus = theta-epsilon\n",
    "    J_plus = forward_propagation(theta_plus,x)\n",
    "    J_minus = forward_propagation(theta_minus,x)\n",
    "    grad = x\n",
    "    grad_approx = (J_plus-J_minus)/(2*epsilon)\n",
    "\n",
    "    numerator = np.linalg.norm(grad_approx-grad)\n",
    "    denominator = np.linalg.norm(grad_approx)+np.linalg.norm(grad)\n",
    "\n",
    "    grad_check = numerator/denominator\n",
    "    if grad_check<=1e-7:\n",
    "        print(\"The Gradient is Correct\")\n",
    "    else:\n",
    "        print(\"Gradient is Wrong\")\n",
    "    return grad_check"
   ]
  },
  {
   "cell_type": "code",
   "execution_count": 5,
   "id": "e95290ca-7ed1-42ca-a9fc-dce83c421640",
   "metadata": {},
   "outputs": [
    {
     "name": "stdout",
     "output_type": "stream",
     "text": [
      "The Gradient is Correct\n"
     ]
    }
   ],
   "source": [
    "diff = gradient_checking(3,2)"
   ]
  },
  {
   "cell_type": "code",
   "execution_count": 6,
   "id": "64cc3fae-c8ce-4b99-a054-abdb9b162d20",
   "metadata": {},
   "outputs": [
    {
     "data": {
      "text/plain": [
       "8.182894368803594e-10"
      ]
     },
     "execution_count": 6,
     "metadata": {},
     "output_type": "execute_result"
    }
   ],
   "source": [
    "diff"
   ]
  },
  {
   "cell_type": "code",
   "execution_count": 7,
   "id": "b6fc2156-dc42-455b-bad0-45b7a1bed831",
   "metadata": {},
   "outputs": [],
   "source": [
    "def relu(x):\n",
    "    return np.maximum(x,0)"
   ]
  },
  {
   "cell_type": "code",
   "execution_count": 8,
   "id": "3ae8b5af-154c-4709-bd93-05c5990b243a",
   "metadata": {},
   "outputs": [],
   "source": [
    "def sigmoid(x):\n",
    "    return 1/(1+np.exp(-x))"
   ]
  },
  {
   "cell_type": "code",
   "execution_count": 9,
   "id": "0e030fa6-1874-4593-8386-b3673f273feb",
   "metadata": {},
   "outputs": [],
   "source": [
    "def forward_backward_n(X,Y,params):\n",
    "    m = X.shape[1]\n",
    "    \n",
    "    W1 = params['W1']\n",
    "    b1 = params['b1']\n",
    "    W2 = params['W2']\n",
    "    b2 = params['b2']\n",
    "    W3 = params['W3']\n",
    "    b3 = params['b3']\n",
    "    \n",
    "    Z1 = np.dot(W1,X)+b1\n",
    "    A1 = relu(Z1)\n",
    "    Z2 = np.dot(W2,A1)+b2\n",
    "    A2 = relu(Z2)\n",
    "    Z3 = np.dot(W3,A2)+b3\n",
    "    A3 = np.sigmoid(Z3)\n",
    "\n",
    "    logrobs = np.multiply(-np.log(A3)*Y)+np.multiply(-np.log(1-A3)*(1-Y))\n",
    "    J = np.sum(logrobs)/(m*1.0)\n",
    "    cache = (Z1,A1,W1,b1,Z2,A2,W2,b2,Z3,A3,W3,b3)\n",
    "    return J,cache"
   ]
  },
  {
   "cell_type": "code",
   "execution_count": 10,
   "id": "a5992b7d-78d3-4b6f-8810-2c2a532696bc",
   "metadata": {},
   "outputs": [],
   "source": [
    "def backward_propagation(X,Y,cache):\n",
    "    m = X.shape[1]\n",
    "    (Z1,A1,W1,b1,Z2,A2,W2,b2,Z3,A3,W3,b3) = cache\n",
    "    dZ3 = A3-Y\n",
    "    dW3 = (1/m) * np.dot(dZ3,A2.T)\n",
    "    db3 = (1/m) * np.sum(dZ3,axis = 1, keepdims=True)\n",
    "\n",
    "    dA2 = np.dot(W3.T,dZ3)\n",
    "    dZ2 = np.multiply(dA2,np.int64(A2>0))\n",
    "    dW2 = (1/m)*np.dot(dZ2,A1.T)\n",
    "    db2 = (1/m)*np.sum(dZ2,axis=1,keepdims=True) \n",
    "\n",
    "    dA1 = np.dot(W2.T,dZ2)\n",
    "    dZ1 = np.multiply(dA1,np.int64(A1>0))\n",
    "    dW1 = (1/m)*np.dot(dZ1,X.T)\n",
    "    db1 = (1/m)*np.sum(dZ1,axis=1,keepdims=True)\n",
    "\n",
    "    grads = {\"dZ3\": dZ3, \"dW3\": dW3, \"db3\": db3,\n",
    "                 \"dA2\": dA2, \"dZ2\": dZ2, \"dW2\": dW2, \"db2\": db2,\n",
    "                 \"dA1\": dA1, \"dZ1\": dZ1, \"dW1\": dW1, \"db1\": db1}\n",
    "    \n",
    "    return grads"
   ]
  }
 ],
 "metadata": {
  "kernelspec": {
   "display_name": "Python 3 (ipykernel)",
   "language": "python",
   "name": "python3"
  },
  "language_info": {
   "codemirror_mode": {
    "name": "ipython",
    "version": 3
   },
   "file_extension": ".py",
   "mimetype": "text/x-python",
   "name": "python",
   "nbconvert_exporter": "python",
   "pygments_lexer": "ipython3",
   "version": "3.11.5"
  }
 },
 "nbformat": 4,
 "nbformat_minor": 5
}
